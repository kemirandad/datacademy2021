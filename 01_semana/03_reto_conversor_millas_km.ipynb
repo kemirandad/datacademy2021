{
 "cells": [
  {
   "cell_type": "markdown",
   "id": "0d57608c",
   "metadata": {},
   "source": [
    "# Reto 3 - Conversor de millas a kilómetros\n",
    "Imagina que quieres calcular los kilómetros que son cierta cantidad de millas. Para no estar repitiendo este cálculo escribe un programa en que el usuario indique una cantidad de millas y en pantalla se muestre el resultado convertido a kilómetros.\n",
    "\n",
    "Toma en cuenta que en cada milla hay 1.609344 Km\n",
    "\n",
    "**Bonus: haz que el usuario pueda escoger entre convertir millas a kilómetros o kilómetros a millas.**"
   ]
  },
  {
   "cell_type": "code",
   "execution_count": 1,
   "id": "571a2a09",
   "metadata": {},
   "outputs": [],
   "source": [
    "def millas_km(value):\n",
    "    v_millas = value * 1.609344\n",
    "    return v_millas"
   ]
  },
  {
   "cell_type": "code",
   "execution_count": 2,
   "id": "981443a0",
   "metadata": {},
   "outputs": [],
   "source": [
    "def km_millas(value):\n",
    "    v_km = value / 1.609344\n",
    "    return v_km"
   ]
  },
  {
   "cell_type": "code",
   "execution_count": 13,
   "id": "58132638",
   "metadata": {},
   "outputs": [],
   "source": [
    "def menu():\n",
    "    print('Digita la cantidad a convertir seguido de la unidad de medidad, separada por espacios... ')\n",
    "#     print(\"\"\"Elige la conversión que deseas realizar: \n",
    "#     0. Convertir Millas a Kilometros\n",
    "#     1. Convertir Kilometros a Millas\n",
    "#     \"\"\")\n",
    "\n",
    "    resultado = ' '\n",
    "    \n",
    "    cantidad, unidad = input('...').split()\n",
    "\n",
    "    if cantidad.isnumeric() != True or unidad.isnumeric() == True:\n",
    "        print('Debe digitar una opción valida... ')\n",
    "    else:\n",
    "        if 'km' in unidad.lower():\n",
    "            resultado += f'{km_millas(int(cantidad))} Millas'\n",
    "        elif 'mi' in unidad.lower():\n",
    "            resultado += f'{millas_km(int(cantidad))} Kms'\n",
    "        else:\n",
    "            print('No reconozco esa unidad de medida')\n",
    "    return f'{cantidad} {unidad} es equivalente a {resultado}'"
   ]
  },
  {
   "cell_type": "code",
   "execution_count": 14,
   "id": "ce747bff",
   "metadata": {},
   "outputs": [],
   "source": [
    "def main():\n",
    "    print(menu())"
   ]
  },
  {
   "cell_type": "code",
   "execution_count": 15,
   "id": "8f278c61",
   "metadata": {},
   "outputs": [
    {
     "name": "stdout",
     "output_type": "stream",
     "text": [
      "Digita la cantidad a convertir seguido de la unidad de medidad, separada por espacios... \n",
      "...        5 mi\n",
      "5 mi es equivalente a  8.04672 Kms\n"
     ]
    }
   ],
   "source": [
    "main()"
   ]
  },
  {
   "cell_type": "code",
   "execution_count": null,
   "id": "b54b71c4",
   "metadata": {},
   "outputs": [],
   "source": []
  }
 ],
 "metadata": {
  "kernelspec": {
   "display_name": "Python 3",
   "language": "python",
   "name": "python3"
  },
  "language_info": {
   "codemirror_mode": {
    "name": "ipython",
    "version": 3
   },
   "file_extension": ".py",
   "mimetype": "text/x-python",
   "name": "python",
   "nbconvert_exporter": "python",
   "pygments_lexer": "ipython3",
   "version": "3.8.8"
  }
 },
 "nbformat": 4,
 "nbformat_minor": 5
}
