{
 "cells": [
  {
   "cell_type": "markdown",
   "id": "4661757f",
   "metadata": {},
   "source": [
    "# Reto 1 - Área de un triángulo\n",
    "Es momento de poner ese conocimiento a la práctica. El área de un triángulo se describe de la siguiente manera: A = (b * h) / 2 .\n",
    "\n",
    "Escribe un programa que tome la base y la altura como parámetros y calcule el área del triángulo.\n",
    "\n",
    "**Bonus: el programa debe determinar si el triángulo es isósceles, equilátero o escaleno.**"
   ]
  },
  {
   "cell_type": "code",
   "execution_count": 11,
   "id": "4a6397da",
   "metadata": {},
   "outputs": [],
   "source": [
    "%matplotlib inline\n",
    "\n",
    "import math"
   ]
  },
  {
   "cell_type": "code",
   "execution_count": 2,
   "id": "9c25eed9",
   "metadata": {},
   "outputs": [],
   "source": [
    "def area_triangulo(b,h):\n",
    "    return (b*h)/2"
   ]
  },
  {
   "cell_type": "code",
   "execution_count": 6,
   "id": "e3713b6f",
   "metadata": {},
   "outputs": [
    {
     "name": "stdout",
     "output_type": "stream",
     "text": [
      "ingrese la base del triángulo: 11\n",
      "ingrese la altura del triángulo: 5.22\n",
      "28.71 es el área del triángulo\n"
     ]
    }
   ],
   "source": [
    "b = float(input(\"ingrese la base del triángulo: \"))\n",
    "h = float(input(\"ingrese la altura del triángulo: \"))\n",
    "area = area_triangulo(b, h)\n",
    "print(f'{round(area, 2)} es el área del triángulo')"
   ]
  },
  {
   "cell_type": "code",
   "execution_count": 9,
   "id": "56c9863a",
   "metadata": {},
   "outputs": [
    {
     "name": "stdout",
     "output_type": "stream",
     "text": [
      "Las unidades ingresadas corresponden a un triángulo isósceles\n"
     ]
    }
   ],
   "source": [
    "# Bonus tipo de triángulo\n",
    "def es_equilatero(base, altura):\n",
    "    a = 2 * altura / pow(3, 0.5)\n",
    "    return a == base\n",
    "\n",
    "def es_isosceles(base, altura):\n",
    "    a = pow( altura ** 2 + (base ** 2)/4 , 0.5)\n",
    "    c = pow( altura ** 2 + (base/2) ** 2, 0.5)\n",
    "    return a == c\n",
    "\n",
    "if es_equilatero(b,h):\n",
    "    print(\"Las unidades ingresadas corresponden a un triángulo equilatero\")\n",
    "elif es_isosceles(b,h):\n",
    "    print(\"Las unidades ingresadas corresponden a un triángulo isósceles\")\n",
    "else:\n",
    "    print(\"Las unidades ingresadas corresponden a un triángulo escaleno\")"
   ]
  },
  {
   "cell_type": "code",
   "execution_count": 10,
   "id": "bd8c93ad",
   "metadata": {},
   "outputs": [
    {
     "name": "stdout",
     "output_type": "stream",
     "text": [
      "5.22\n",
      "11.0\n"
     ]
    }
   ],
   "source": [
    "print(h)\n",
    "print(b)"
   ]
  },
  {
   "cell_type": "code",
   "execution_count": null,
   "id": "1f00eb68",
   "metadata": {},
   "outputs": [],
   "source": [
    "c = "
   ]
  }
 ],
 "metadata": {
  "kernelspec": {
   "display_name": "Python 3",
   "language": "python",
   "name": "python3"
  },
  "language_info": {
   "codemirror_mode": {
    "name": "ipython",
    "version": 3
   },
   "file_extension": ".py",
   "mimetype": "text/x-python",
   "name": "python",
   "nbconvert_exporter": "python",
   "pygments_lexer": "ipython3",
   "version": "3.8.8"
  }
 },
 "nbformat": 4,
 "nbformat_minor": 5
}
