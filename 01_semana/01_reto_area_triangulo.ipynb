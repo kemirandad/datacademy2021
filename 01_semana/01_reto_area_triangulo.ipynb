{
 "cells": [
  {
   "cell_type": "markdown",
   "id": "4661757f",
   "metadata": {},
   "source": [
    "# Reto 1 - Área de un triángulo\n",
    "Es momento de poner ese conocimiento a la práctica. El área de un triángulo se describe de la siguiente manera: A = (b * h) / 2 .\n",
    "\n",
    "Escribe un programa que tome la base y la altura como parámetros y calcule el área del triángulo.\n",
    "\n",
    "**Bonus: el programa debe determinar si el triángulo es isósceles, equilátero o escaleno.**"
   ]
  },
  {
   "cell_type": "code",
   "execution_count": 21,
   "id": "4a6397da",
   "metadata": {},
   "outputs": [],
   "source": [
    "%matplotlib inline\n",
    "\n",
    "import numpy as np\n",
    "import matplotlib.pyplot as plt\n",
    "import seaborn as sns"
   ]
  },
  {
   "cell_type": "code",
   "execution_count": 55,
   "id": "9c25eed9",
   "metadata": {},
   "outputs": [],
   "source": [
    "def area_triangulo(b,h):\n",
    "    return (b*h)/2"
   ]
  },
  {
   "cell_type": "code",
   "execution_count": 56,
   "id": "e3713b6f",
   "metadata": {},
   "outputs": [
    {
     "name": "stdout",
     "output_type": "stream",
     "text": [
      "ingrese la base del triángulo: 10\n",
      "ingrese la altura del triángulo: 10\n",
      "50.0 es el área del triángulo\n"
     ]
    }
   ],
   "source": [
    "b = int(input(\"ingrese la base del triángulo: \"))\n",
    "h = int(input(\"ingrese la altura del triángulo: \"))\n",
    "area = area_triangulo(b, h)\n",
    "print(f'{area} es el área del triángulo')"
   ]
  },
  {
   "cell_type": "code",
   "execution_count": 57,
   "id": "56c9863a",
   "metadata": {},
   "outputs": [],
   "source": [
    "# Bonus tipo de triángulo"
   ]
  },
  {
   "cell_type": "code",
   "execution_count": 67,
   "id": "bd8c93ad",
   "metadata": {},
   "outputs": [
    {
     "name": "stdout",
     "output_type": "stream",
     "text": [
      "10\n",
      "10\n"
     ]
    }
   ],
   "source": [
    "print(h)\n",
    "print(b)"
   ]
  },
  {
   "cell_type": "code",
   "execution_count": null,
   "id": "1f00eb68",
   "metadata": {},
   "outputs": [],
   "source": [
    "c = "
   ]
  }
 ],
 "metadata": {
  "kernelspec": {
   "display_name": "Python 3",
   "language": "python",
   "name": "python3"
  },
  "language_info": {
   "codemirror_mode": {
    "name": "ipython",
    "version": 3
   },
   "file_extension": ".py",
   "mimetype": "text/x-python",
   "name": "python",
   "nbconvert_exporter": "python",
   "pygments_lexer": "ipython3",
   "version": "3.8.8"
  }
 },
 "nbformat": 4,
 "nbformat_minor": 5
}
