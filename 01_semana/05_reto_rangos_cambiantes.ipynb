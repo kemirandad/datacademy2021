{
 "cells": [
  {
   "cell_type": "markdown",
   "id": "38142fc9",
   "metadata": {},
   "source": [
    "# Reto 5 - Rangos cambiantes\n",
    "Para este reto final juguemos con números. En tu programa pide al usuario ingresar 3 números: un límite inferior, un límite superior y uno de comparación.\n",
    "\n",
    "Si tu número de comparación se encuentra en el rango de los dos límites, imprímelo en pantalla.\n",
    "\n",
    "En caso de estar por debajo del inferior o arriba del superior, también muéstralo en pantalla y pide ingresar otro número para repetir el proceso."
   ]
  },
  {
   "cell_type": "code",
   "execution_count": 15,
   "id": "58c2bd45",
   "metadata": {},
   "outputs": [],
   "source": [
    "import random"
   ]
  },
  {
   "cell_type": "code",
   "execution_count": 36,
   "id": "5c1bb87a",
   "metadata": {},
   "outputs": [],
   "source": [
    "def solicitar_por_teclado():\n",
    "    while True:\n",
    "        try:\n",
    "            user_value = input('Ingrese un número natural entre 0 y 1000: ... ')\n",
    "            if not user_value.isnumeric():\n",
    "                raise TypeError('El dato no es de tipo entero')\n",
    "            elif int(user_value) < 0 or int(user_value) > 1000:\n",
    "                raise IndexError('El dato ingresado no se encuentra entre 0 y 1000')\n",
    "            else:\n",
    "                print('::::::::::: VALOR ACEPTADO :::::::::::::')\n",
    "                user_value = int(user_value)\n",
    "                break\n",
    "        except TypeError as te:\n",
    "            print(te)\n",
    "        except IndexError as ie:\n",
    "            print(ie)\n",
    "\n",
    "    return user_value\n",
    "\n",
    "def comparar_valores():\n",
    "    ri, rs = (random.randint(0,501), random.randint(501,1001))\n",
    "    flag = 0\n",
    "    while flag <= 0:\n",
    "        uv = solicitar_por_teclado()\n",
    "        if uv >= ri and uv <= rs:\n",
    "            print(f\"\"\"\n",
    "            ¡Excelente! Tu valor ingresado {uv} se encuentra entre {ri} y {rs}\n",
    "            \"\"\")\n",
    "            flag += 1\n",
    "        else:\n",
    "            print(f\"\"\"\n",
    "            Tu valor ingresado {uv} esta fuera de los limites definidos \n",
    "            \"\"\")\n",
    "            if uv < ri:\n",
    "                print('Se encuentra por debajo del rango inferior')\n",
    "            elif uv > rs:\n",
    "                print('Se encuentra por encima del rango superior')\n",
    "                \n",
    "def main():\n",
    "    comparar_valores()\n",
    "\n",
    "if \"__main__\"==\"__name__\":\n",
    "    main()"
   ]
  },
  {
   "cell_type": "code",
   "execution_count": 37,
   "id": "506de621",
   "metadata": {},
   "outputs": [
    {
     "name": "stdout",
     "output_type": "stream",
     "text": [
      "Ingrese un número natural entre 0 y 1000: ... 5000\n",
      "El dato ingresado no se encuentra entre 0 y 1000\n",
      "Ingrese un número natural entre 0 y 1000: ... k\n",
      "El dato no es de tipo entero\n",
      "Ingrese un número natural entre 0 y 1000: ... 200\n",
      "::::::::::: VALOR ACEPTADO :::::::::::::\n",
      "\n",
      "            Tu valor ingresado 200 esta fuera de los limites definidos \n",
      "            \n",
      "Se encuentra por debajo del rango inferior\n",
      "Ingrese un número natural entre 0 y 1000: ... 300\n",
      "::::::::::: VALOR ACEPTADO :::::::::::::\n",
      "\n",
      "            Tu valor ingresado 300 esta fuera de los limites definidos \n",
      "            \n",
      "Se encuentra por debajo del rango inferior\n",
      "Ingrese un número natural entre 0 y 1000: ... 600\n",
      "::::::::::: VALOR ACEPTADO :::::::::::::\n",
      "\n",
      "            Tu valor ingresado 600 esta fuera de los limites definidos \n",
      "            \n",
      "Se encuentra por encima del rango superior\n",
      "Ingrese un número natural entre 0 y 1000: ... 500\n",
      "::::::::::: VALOR ACEPTADO :::::::::::::\n",
      "\n",
      "            ¡Excelente! Tu valor ingresado 500 se encuentra entre 459 y 593\n",
      "            \n"
     ]
    }
   ],
   "source": [
    "main()"
   ]
  },
  {
   "cell_type": "code",
   "execution_count": null,
   "id": "ac9e0d25",
   "metadata": {},
   "outputs": [],
   "source": []
  }
 ],
 "metadata": {
  "kernelspec": {
   "display_name": "Python 3",
   "language": "python",
   "name": "python3"
  },
  "language_info": {
   "codemirror_mode": {
    "name": "ipython",
    "version": 3
   },
   "file_extension": ".py",
   "mimetype": "text/x-python",
   "name": "python",
   "nbconvert_exporter": "python",
   "pygments_lexer": "ipython3",
   "version": "3.8.8"
  }
 },
 "nbformat": 4,
 "nbformat_minor": 5
}
