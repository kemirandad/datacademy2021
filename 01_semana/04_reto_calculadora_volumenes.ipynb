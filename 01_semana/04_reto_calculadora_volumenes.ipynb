{
 "cells": [
  {
   "cell_type": "markdown",
   "id": "f182c6ee",
   "metadata": {},
   "source": [
    "# Reto 4 - Calculadora de volúmenes\n",
    "Sigamos con matemáticas elementales para no perder la costumbre y retar nuestras habilidades. Escribe un programa donde apliques las diferentes fórmulas matemáticas para calcular el volumen de un cilindro.\n",
    "\n",
    "Recuerda que la base del cilindro es un círculo y necesitarás calcular su área. Aplica las fórmulas en tu programa recibiendo datos como altura y radio.\n",
    "\n",
    "**Bonus: agrega otras figuras geométricas a tu programa y que el usuario pueda escoger cuál calcular.**"
   ]
  },
  {
   "cell_type": "code",
   "execution_count": 1,
   "id": "beaf14aa",
   "metadata": {},
   "outputs": [],
   "source": [
    "import math"
   ]
  },
  {
   "cell_type": "code",
   "execution_count": 13,
   "id": "c5d2f5ea",
   "metadata": {},
   "outputs": [],
   "source": [
    "def vol_cubo(x):\n",
    "    return pow(x, 3)\n",
    "\n",
    "def vol_cilindro(r, h):\n",
    "    vol = math.pi * h * pow(r, 2)\n",
    "    return vol\n",
    "\n",
    "def vol_esfera(r):\n",
    "    vol = (4/3) * math.pi * pow(r, 3)\n",
    "    return vol\n",
    "\n",
    "def vol_prisma(x, y, z):\n",
    "    return x * y * z"
   ]
  },
  {
   "cell_type": "code",
   "execution_count": 23,
   "id": "4f5fa456",
   "metadata": {},
   "outputs": [],
   "source": [
    "def menu_cubo():\n",
    "    while True:\n",
    "        print(\"\"\"\n",
    "        Digite el valor del lado del cubo \n",
    "        \"\"\")\n",
    "        value = input('...')\n",
    "        \n",
    "        if not value.isnumeric():\n",
    "            raise ValueError('Debe ingresar un número real para obtener su conversión')\n",
    "        else:\n",
    "            value = int(value)\n",
    "            if value < 0:\n",
    "                raise IndexError('Debe ingresar un número natural')\n",
    "            else:\n",
    "                resultado = vol_cubo(value)\n",
    "                print(f'El volumen del cubo es {resultado}')\n",
    "                break"
   ]
  },
  {
   "cell_type": "code",
   "execution_count": 24,
   "id": "87e19e76",
   "metadata": {},
   "outputs": [],
   "source": [
    "def menu_cilindro():\n",
    "    while True:\n",
    "        print(\"\"\"\n",
    "        Digite el valor de la altura y el radio, separado por espacios:\n",
    "        Ej: 5 3\n",
    "        ________\n",
    "            h r\n",
    "        \"\"\")\n",
    "        h, r = input('...').split()\n",
    "        \n",
    "        if not h.isnumeric() or not r.isnumeric():\n",
    "            raise ValueError('Debe ingresar un número real para obtener su conversión')\n",
    "        else:\n",
    "            h = int(h)\n",
    "            r = int(r)\n",
    "            if h < 0 or r < 0:\n",
    "                raise IndexError('Debe ingresar un número natural para altura y radio')\n",
    "            else:\n",
    "                resultado = vol_cilindro(r, h)\n",
    "                print(f'El volumen del cilindro es {resultado}')\n",
    "                break"
   ]
  },
  {
   "cell_type": "code",
   "execution_count": 25,
   "id": "b16352df",
   "metadata": {},
   "outputs": [],
   "source": [
    "def menu_esfera():\n",
    "    while True:\n",
    "        print(\"\"\"\n",
    "        Digite el valor del radio de la esfera \n",
    "        \"\"\")\n",
    "        value = input('...')\n",
    "        \n",
    "        if not value.isnumeric():\n",
    "            raise ValueError('Debe ingresar un número real para obtener su conversión')\n",
    "        else:\n",
    "            value = int(value)\n",
    "            if value < 0:\n",
    "                raise IndexError('Debe ingresar un número natural')\n",
    "            else:\n",
    "                resultado = vol_esfera(value)\n",
    "                print(f'El volumen de la esfera es {resultado}')\n",
    "                break"
   ]
  },
  {
   "cell_type": "code",
   "execution_count": 26,
   "id": "20e2759c",
   "metadata": {},
   "outputs": [],
   "source": [
    "def menu_prisma():\n",
    "    while True:\n",
    "        print(\"\"\"\n",
    "        Digite el valor del ancho, largo y altura, separado por espacios:\n",
    "        Ej: 5 3 2\n",
    "        ________\n",
    "            x y z\n",
    "        \"\"\")\n",
    "        x, y, z = input('...').split()\n",
    "        \n",
    "        if not x.isnumeric() or not y.isnumeric() or not z.isnumeric():\n",
    "            raise ValueError('Debe ingresar un número real para obtener su conversión')\n",
    "        else:\n",
    "            x = int(x)\n",
    "            y = int(y)\n",
    "            z = int(z)\n",
    "            if x < 0 or y < 0 or z < 0:\n",
    "                raise IndexError('Debe ingresar un número natural para X, Y y Z')\n",
    "            else:\n",
    "                resultado = vol_prisma(x, y, z)\n",
    "                print(f'El volumen del prisma es {resultado}')\n",
    "                break"
   ]
  },
  {
   "cell_type": "code",
   "execution_count": 31,
   "id": "4de78bad",
   "metadata": {},
   "outputs": [],
   "source": [
    "def menu():\n",
    "    while True:\n",
    "        print(\"\"\"\n",
    "        Elija alguna de las siguientes opciones para realizar su conversión:\n",
    "        0. Volumen de un cubo\n",
    "        1. Volumen de un cilindro\n",
    "        2. Volumen de una esfera\n",
    "        3. Volumen de un prisma \n",
    "        \"\"\")\n",
    "        \n",
    "        eleccion = input('...')\n",
    "        \n",
    "        if not eleccion.isnumeric():\n",
    "            raise ValueError('Debe ingresar un número real para obtener su conversión')\n",
    "        else:\n",
    "            eleccion = int(eleccion)\n",
    "            if eleccion < 0 or eleccion > 3:\n",
    "                raise IndexError('Debe ingresar un número real entre 0 y 3')\n",
    "            else:\n",
    "                if eleccion == 0:\n",
    "                    menu_cubo()\n",
    "                elif eleccion == 1:\n",
    "                    menu_cilindro()\n",
    "                elif eleccion == 2:\n",
    "                    menu_esfera()\n",
    "                elif eleccion == 3:\n",
    "                    menu_prisma()\n",
    "                break"
   ]
  },
  {
   "cell_type": "code",
   "execution_count": 32,
   "id": "2d0558a5",
   "metadata": {},
   "outputs": [
    {
     "name": "stdout",
     "output_type": "stream",
     "text": [
      "\n",
      "        Elija alguna de las siguientes opciones para realizar su conversión:\n",
      "        0. Volumen de un cubo\n",
      "        1. Volumen de un cilindro\n",
      "        2. Volumen de una esfera\n",
      "        3. Volumen de un prisma \n",
      "        \n",
      "...5\n"
     ]
    },
    {
     "ename": "IndexError",
     "evalue": "Debe ingresar un número real entre 0 y 3",
     "output_type": "error",
     "traceback": [
      "\u001b[0;31m---------------------------------------------------------------------------\u001b[0m",
      "\u001b[0;31mIndexError\u001b[0m                                Traceback (most recent call last)",
      "\u001b[0;32m<ipython-input-32-a554a8713acc>\u001b[0m in \u001b[0;36m<module>\u001b[0;34m\u001b[0m\n\u001b[0;32m----> 1\u001b[0;31m \u001b[0mmenu\u001b[0m\u001b[0;34m(\u001b[0m\u001b[0;34m)\u001b[0m\u001b[0;34m\u001b[0m\u001b[0;34m\u001b[0m\u001b[0m\n\u001b[0m",
      "\u001b[0;32m<ipython-input-31-610c366e68a8>\u001b[0m in \u001b[0;36mmenu\u001b[0;34m()\u001b[0m\n\u001b[1;32m     16\u001b[0m             \u001b[0meleccion\u001b[0m \u001b[0;34m=\u001b[0m \u001b[0mint\u001b[0m\u001b[0;34m(\u001b[0m\u001b[0meleccion\u001b[0m\u001b[0;34m)\u001b[0m\u001b[0;34m\u001b[0m\u001b[0;34m\u001b[0m\u001b[0m\n\u001b[1;32m     17\u001b[0m             \u001b[0;32mif\u001b[0m \u001b[0meleccion\u001b[0m \u001b[0;34m<\u001b[0m \u001b[0;36m0\u001b[0m \u001b[0;32mor\u001b[0m \u001b[0meleccion\u001b[0m \u001b[0;34m>\u001b[0m \u001b[0;36m3\u001b[0m\u001b[0;34m:\u001b[0m\u001b[0;34m\u001b[0m\u001b[0;34m\u001b[0m\u001b[0m\n\u001b[0;32m---> 18\u001b[0;31m                 \u001b[0;32mraise\u001b[0m \u001b[0mIndexError\u001b[0m\u001b[0;34m(\u001b[0m\u001b[0;34m'Debe ingresar un número real entre 0 y 3'\u001b[0m\u001b[0;34m)\u001b[0m\u001b[0;34m\u001b[0m\u001b[0;34m\u001b[0m\u001b[0m\n\u001b[0m\u001b[1;32m     19\u001b[0m             \u001b[0;32melse\u001b[0m\u001b[0;34m:\u001b[0m\u001b[0;34m\u001b[0m\u001b[0;34m\u001b[0m\u001b[0m\n\u001b[1;32m     20\u001b[0m                 \u001b[0;32mif\u001b[0m \u001b[0meleccion\u001b[0m \u001b[0;34m==\u001b[0m \u001b[0;36m0\u001b[0m\u001b[0;34m:\u001b[0m\u001b[0;34m\u001b[0m\u001b[0;34m\u001b[0m\u001b[0m\n",
      "\u001b[0;31mIndexError\u001b[0m: Debe ingresar un número real entre 0 y 3"
     ]
    }
   ],
   "source": [
    "menu()"
   ]
  },
  {
   "cell_type": "code",
   "execution_count": null,
   "id": "6d3da312",
   "metadata": {},
   "outputs": [],
   "source": []
  }
 ],
 "metadata": {
  "kernelspec": {
   "display_name": "Python 3",
   "language": "python",
   "name": "python3"
  },
  "language_info": {
   "codemirror_mode": {
    "name": "ipython",
    "version": 3
   },
   "file_extension": ".py",
   "mimetype": "text/x-python",
   "name": "python",
   "nbconvert_exporter": "python",
   "pygments_lexer": "ipython3",
   "version": "3.8.8"
  }
 },
 "nbformat": 4,
 "nbformat_minor": 5
}
