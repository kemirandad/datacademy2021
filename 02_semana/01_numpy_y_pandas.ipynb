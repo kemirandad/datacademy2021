{
 "cells": [
  {
   "cell_type": "markdown",
   "id": "ab874d0e",
   "metadata": {},
   "source": [
    "# Usando NumPy\n",
    "\n",
    "NumPy significa \"Python numérico\". Es un módulo _open source_ de Python que proporciona cálculos matemáticos rápidos en arreglos y matrices. Dado que los arreglos y matrices son una parte esencial del ecosistema de aprendizaje automático, NumPy se usa con otros módulos de machines learning como Scikit-learn, Pandas, Matplotlib, TensorFlow, etc."
   ]
  },
  {
   "cell_type": "markdown",
   "id": "984e8bac",
   "metadata": {},
   "source": [
    "## Jugando con numpy\n",
    "### Importando el módulo"
   ]
  },
  {
   "cell_type": "code",
   "execution_count": 1,
   "id": "4a4736a6",
   "metadata": {},
   "outputs": [],
   "source": [
    "import numpy as np"
   ]
  },
  {
   "cell_type": "markdown",
   "id": "82980c9b",
   "metadata": {},
   "source": [
    "### Creando vectores"
   ]
  },
  {
   "cell_type": "code",
   "execution_count": 2,
   "id": "7a5d4f64",
   "metadata": {},
   "outputs": [],
   "source": [
    "lista = [1,2,3,4]\n",
    "vector = np.array([1,2,3,4])"
   ]
  },
  {
   "cell_type": "code",
   "execution_count": 3,
   "id": "b6d117ed",
   "metadata": {},
   "outputs": [
    {
     "name": "stdout",
     "output_type": "stream",
     "text": [
      "[1 2 3 4]\n"
     ]
    }
   ],
   "source": [
    "print(vector)"
   ]
  },
  {
   "cell_type": "code",
   "execution_count": 5,
   "id": "63130fa6",
   "metadata": {},
   "outputs": [
    {
     "name": "stdout",
     "output_type": "stream",
     "text": [
      "[1. 1. 1. 1. 1. 1.]\n"
     ]
    }
   ],
   "source": [
    "vector_unos = np.ones(6)\n",
    "print(vector_unos)"
   ]
  },
  {
   "cell_type": "code",
   "execution_count": 6,
   "id": "20ea4006",
   "metadata": {},
   "outputs": [
    {
     "name": "stdout",
     "output_type": "stream",
     "text": [
      "[0. 0. 0. 0. 0. 0. 0. 0. 0. 0.]\n"
     ]
    }
   ],
   "source": [
    "vector_ceros = np.zeros(10)\n",
    "print(vector_ceros)"
   ]
  },
  {
   "cell_type": "code",
   "execution_count": 7,
   "id": "a1d9cec6",
   "metadata": {},
   "outputs": [
    {
     "name": "stdout",
     "output_type": "stream",
     "text": [
      "[[1. 0. 0.]\n",
      " [0. 1. 0.]\n",
      " [0. 0. 1.]]\n"
     ]
    }
   ],
   "source": [
    "vector_diag = np.diag(np.ones(3))\n",
    "print(vector_diag)"
   ]
  },
  {
   "cell_type": "markdown",
   "id": "e0d4410d",
   "metadata": {},
   "source": [
    "type(vector)"
   ]
  },
  {
   "cell_type": "markdown",
   "id": "6448ed98",
   "metadata": {},
   "source": [
    "## Jugando con Pandas\n",
    "\n",
    "### Importando el módulo"
   ]
  },
  {
   "cell_type": "code",
   "execution_count": 1,
   "id": "3a628b5a",
   "metadata": {},
   "outputs": [],
   "source": [
    "import pandas as pd"
   ]
  },
  {
   "cell_type": "markdown",
   "id": "f6d88548",
   "metadata": {},
   "source": [
    "### Creando un DataFrame de un diccionario"
   ]
  },
  {
   "cell_type": "code",
   "execution_count": 4,
   "id": "4c59e8d8",
   "metadata": {},
   "outputs": [
    {
     "data": {
      "text/html": [
       "<div>\n",
       "<style scoped>\n",
       "    .dataframe tbody tr th:only-of-type {\n",
       "        vertical-align: middle;\n",
       "    }\n",
       "\n",
       "    .dataframe tbody tr th {\n",
       "        vertical-align: top;\n",
       "    }\n",
       "\n",
       "    .dataframe thead th {\n",
       "        text-align: right;\n",
       "    }\n",
       "</style>\n",
       "<table border=\"1\" class=\"dataframe\">\n",
       "  <thead>\n",
       "    <tr style=\"text-align: right;\">\n",
       "      <th></th>\n",
       "      <th>Nombre</th>\n",
       "      <th>Edad</th>\n",
       "    </tr>\n",
       "  </thead>\n",
       "  <tbody>\n",
       "    <tr>\n",
       "      <th>0</th>\n",
       "      <td>Enrique</td>\n",
       "      <td>24</td>\n",
       "    </tr>\n",
       "    <tr>\n",
       "      <th>1</th>\n",
       "      <td>Sofia</td>\n",
       "      <td>31</td>\n",
       "    </tr>\n",
       "    <tr>\n",
       "      <th>2</th>\n",
       "      <td>Carlos</td>\n",
       "      <td>29</td>\n",
       "    </tr>\n",
       "    <tr>\n",
       "      <th>3</th>\n",
       "      <td>Lucia</td>\n",
       "      <td>42</td>\n",
       "    </tr>\n",
       "  </tbody>\n",
       "</table>\n",
       "</div>"
      ],
      "text/plain": [
       "    Nombre  Edad\n",
       "0  Enrique    24\n",
       "1    Sofia    31\n",
       "2   Carlos    29\n",
       "3    Lucia    42"
      ]
     },
     "execution_count": 4,
     "metadata": {},
     "output_type": "execute_result"
    }
   ],
   "source": [
    "data = {'Nombre':['Enrique','Sofia','Carlos','Lucia'],'Edad':[24,31,29,42]}\n",
    "df = pd.DataFrame(data)\n",
    "df"
   ]
  },
  {
   "cell_type": "markdown",
   "id": "fefece27",
   "metadata": {},
   "source": [
    "### Creando un DataFrame de un arreglo"
   ]
  },
  {
   "cell_type": "code",
   "execution_count": 6,
   "id": "061ed914",
   "metadata": {},
   "outputs": [
    {
     "data": {
      "text/html": [
       "<div>\n",
       "<style scoped>\n",
       "    .dataframe tbody tr th:only-of-type {\n",
       "        vertical-align: middle;\n",
       "    }\n",
       "\n",
       "    .dataframe tbody tr th {\n",
       "        vertical-align: top;\n",
       "    }\n",
       "\n",
       "    .dataframe thead th {\n",
       "        text-align: right;\n",
       "    }\n",
       "</style>\n",
       "<table border=\"1\" class=\"dataframe\">\n",
       "  <thead>\n",
       "    <tr style=\"text-align: right;\">\n",
       "      <th></th>\n",
       "      <th>Nombres</th>\n",
       "      <th>Edad</th>\n",
       "    </tr>\n",
       "  </thead>\n",
       "  <tbody>\n",
       "    <tr>\n",
       "      <th>0</th>\n",
       "      <td>Enrique</td>\n",
       "      <td>24</td>\n",
       "    </tr>\n",
       "    <tr>\n",
       "      <th>1</th>\n",
       "      <td>Sofia</td>\n",
       "      <td>31</td>\n",
       "    </tr>\n",
       "    <tr>\n",
       "      <th>2</th>\n",
       "      <td>Carlos</td>\n",
       "      <td>29</td>\n",
       "    </tr>\n",
       "    <tr>\n",
       "      <th>3</th>\n",
       "      <td>Lucia</td>\n",
       "      <td>42</td>\n",
       "    </tr>\n",
       "  </tbody>\n",
       "</table>\n",
       "</div>"
      ],
      "text/plain": [
       "   Nombres  Edad\n",
       "0  Enrique    24\n",
       "1    Sofia    31\n",
       "2   Carlos    29\n",
       "3    Lucia    42"
      ]
     },
     "execution_count": 6,
     "metadata": {},
     "output_type": "execute_result"
    }
   ],
   "source": [
    "data = [[\"Enrique\",24],[\"Sofia\",31],[\"Carlos\",29],[\"Lucia\",42]]\n",
    "df = pd.DataFrame(data,columns=['Nombres','Edad'])\n",
    "df"
   ]
  },
  {
   "cell_type": "code",
   "execution_count": null,
   "id": "5b33dee9",
   "metadata": {},
   "outputs": [],
   "source": []
  }
 ],
 "metadata": {
  "kernelspec": {
   "display_name": "Python 3",
   "language": "python",
   "name": "python3"
  },
  "language_info": {
   "codemirror_mode": {
    "name": "ipython",
    "version": 3
   },
   "file_extension": ".py",
   "mimetype": "text/x-python",
   "name": "python",
   "nbconvert_exporter": "python",
   "pygments_lexer": "ipython3",
   "version": "3.8.8"
  }
 },
 "nbformat": 4,
 "nbformat_minor": 5
}
